{
 "cells": [
  {
   "cell_type": "markdown",
   "metadata": {
    "id": "cXC4WikDkE8r"
   },
   "source": [
    "### **Atividade com Nota**\n",
    "Link de envio:\n",
    "https://forms.gle/rEGR8vXj365VcV628"
   ]
  },
  {
   "cell_type": "markdown",
   "metadata": {
    "id": "e9QTLDi29NKd"
   },
   "source": [
    "#### Exercício 1: Análise de Dados de Vendas\n",
    "\n",
    "- Você recebeu os dados de vendas de uma loja durante um mês;\n",
    "- Eles estão organizados em uma lista de tuplas, onde cada tupla contém o **nome do produto**, a **quantidade vendida** e o **valor total da venda**. Você deve realizar uma análise utilizando listas, compreensão de listas, `itertools`, dicionários e conjuntos.\n",
    "\n",
    "#### Dados fornecidos:\n",
    "```python\n",
    "vendas = [\n",
    "    ('Camiseta', 10, 200),\n",
    "    ('Calça', 5, 250),\n",
    "    ('Jaqueta', 2, 300),\n",
    "    ('Camiseta', 7, 140),\n",
    "    ('Calça', 3, 150),\n",
    "    ('Boné', 4, 80),\n",
    "    ('Jaqueta', 1, 150),\n",
    "    ('Camiseta', 8, 160),\n",
    "    ('Boné', 3, 60),\n",
    "]\n",
    "```\n",
    "\n",
    "#### Tarefas:\n",
    "\n",
    "1. **Listas e Compreensão de Listas**:\n",
    "   - Crie uma nova lista contendo apenas os produtos únicos vendidos (sem repetições). Use uma compreensão de lista e um conjunto (`set`) para garantir que não haja duplicatas.\n",
    "\n",
    "2. **itertools**:\n",
    "   - Use `itertools` para agrupar as vendas por produto e somar a quantidade total vendida para cada produto.\n",
    "\n",
    "3. **Dicionários**:\n",
    "   - Crie um dicionário onde as chaves são os produtos e os valores são listas que contêm a quantidade total vendida e o valor total de vendas de cada produto.\n",
    "\n",
    "4. **Conjuntos**:\n",
    "   - Crie dois conjuntos: um contendo os produtos vendidos com mais de 20 unidades e outro contendo os produtos que geraram um valor total de vendas superior a 500.\n",
    "\n"
   ]
  },
  {
   "cell_type": "markdown",
   "metadata": {
    "id": "IyWvWpmJ9wEJ"
   },
   "source": [
    "#### Exemplo de Saída Esperada:"
   ]
  },
  {
   "cell_type": "code",
   "execution_count": null,
   "metadata": {
    "id": "hJSSRdZ19rcl"
   },
   "outputs": [],
   "source": [
    "# Produtos únicos vendidos\n",
    "['Camiseta', 'Calça', 'Jaqueta', 'Boné']\n",
    "\n",
    "# Quantidade total vendida por produto\n",
    "{'Camiseta': 25, 'Calça': 8, 'Jaqueta': 3, 'Boné': 7}\n",
    "\n",
    "# Dicionário com quantidade e valor total de vendas por produto\n",
    "{'Camiseta': [25, 500], 'Calça': [8, 400], 'Jaqueta': [3, 450], 'Boné': [7, 140]}\n",
    "\n",
    "# Conjuntos de produtos com mais de 20 unidades vendidas e mais de 500 em vendas totais\n",
    "Produtos com mais de 20 unidades vendidas: {'Camiseta'}\n",
    "Produtos com mais de 500 em vendas totais: {'Camiseta', 'Jaqueta'}"
   ]
  },
  {
   "cell_type": "code",
   "execution_count": 2,
   "metadata": {},
   "outputs": [
    {
     "name": "stdout",
     "output_type": "stream",
     "text": [
      "['Calça', 'Camiseta', 'Boné', 'Jaqueta']\n",
      "{'Boné': 7, 'Calça': 8, 'Camiseta': 25, 'Jaqueta': 3}\n",
      "{'Boné': [7, 140], 'Calça': [8, 400], 'Camiseta': [25, 500], 'Jaqueta': [3, 450]}\n",
      "{'Camiseta'}\n",
      "set()\n"
     ]
    }
   ],
   "source": [
    "# Dados Fornecidos\n",
    "vendas = [\n",
    "    ('Camiseta', 10, 200),\n",
    "    ('Calça', 5, 250),\n",
    "    ('Jaqueta', 2, 300),\n",
    "    ('Camiseta', 7, 140),\n",
    "    ('Calça', 3, 150),\n",
    "    ('Boné', 4, 80),\n",
    "    ('Jaqueta', 1, 150),\n",
    "    ('Camiseta', 8, 160),\n",
    "    ('Boné', 3, 60),\n",
    "]\n",
    "\n",
    "# Exercício 1\n",
    "produtos_unicos = list({produto[0] for produto in vendas})\n",
    "print(produtos_unicos)\n",
    "\n",
    "# Exercício 2\n",
    "from itertools import groupby\n",
    "\n",
    "vendas.sort(key=lambda x: x[0])\n",
    "qtde_vendas_agrupadas = {produto: sum(item[1] for item in grupo) for produto, grupo in groupby(vendas, key=lambda x: x[0])}\n",
    "print(qtde_vendas_agrupadas)\n",
    "\n",
    "# Exercício 3\n",
    "dict_vendas = {}\n",
    "\n",
    "for produto, quantidade, valor in vendas:\n",
    "    if produto not in dict_vendas:\n",
    "        dict_vendas[produto] = [0, 0]\n",
    "    dict_vendas[produto][0] += quantidade\n",
    "    dict_vendas[produto][1] += valor\n",
    "\n",
    "print(dict_vendas)\n",
    "\n",
    "# Exercício 4\n",
    "produtos_20_unidades_vendidas = set()\n",
    "produtos_500_em_vendas = set()\n",
    "\n",
    "produtos_20_unidades_vendidas = {produto for produto, valores in dict_vendas.items() if valores[0] > 20}\n",
    "print(produtos_20_unidades_vendidas)\n",
    "\n",
    "produtos_500_em_vendas = {produto for produto, valores in dict_vendas.items() if valores[1] > 500}\n",
    "print(produtos_500_em_vendas)"
   ]
  },
  {
   "cell_type": "markdown",
   "metadata": {
    "id": "61JcTLEujIVM"
   },
   "source": [
    "### Exercício 2: Análise de Dados de Alunos\n",
    "\n",
    "Você tem uma lista com registros de alunos, onde cada registro contém o nome do aluno, a disciplina e a nota final que ele obteve. Você precisa processar esses dados para extrair informações específicas e responder a algumas perguntas sobre o desempenho dos alunos.\n",
    "\n"
   ]
  },
  {
   "cell_type": "code",
   "execution_count": 3,
   "metadata": {
    "id": "zXcxd76pkGJV"
   },
   "outputs": [],
   "source": [
    "#### Dados fornecidos:\n",
    "alunos = [\n",
    "    ('Alice', 'Matemática', 85),\n",
    "    ('Bob', 'História', 78),\n",
    "    ('Alice', 'História', 95),\n",
    "    ('Bob', 'Matemática', 82),\n",
    "    ('Carlos', 'Matemática', 70),\n",
    "    ('Carlos', 'História', 65),\n",
    "    ('Alice', 'Física', 90),\n",
    "    ('Bob', 'Física', 85),\n",
    "    ('Carlos', 'Física', 75),\n",
    "    ('Diana', 'Matemática', 88),\n",
    "    ('Diana', 'História', 92),\n",
    "    ('Diana', 'Física', 95),\n",
    "]"
   ]
  },
  {
   "cell_type": "markdown",
   "metadata": {
    "id": "NH1nPS5hkGkT"
   },
   "source": [
    "#### Tarefas:\n",
    "\n",
    "1. **Listas e Compreensão de Listas**:\n",
    "   - Crie uma lista de todas as disciplinas disponíveis (sem duplicação), usando uma compreensão de lista e um conjunto para garantir que não haja repetições.\n",
    "\n",
    "2. **Agrupamento de Notas por Aluno**:\n",
    "   - Crie um dicionário onde as chaves são os nomes dos alunos e os valores são listas com as notas. Em seguida, calcule a média das notas para cada aluno.\n",
    "\n",
    "3. **Dicionários**:\n",
    "   - Crie um dicionário que armazene as notas de cada aluno para cada disciplina. As chaves devem ser os nomes dos alunos, e os valores devem ser dicionários onde as chaves são as disciplinas e os valores são as notas.\n",
    "\n",
    "4. **Conjuntos**:\n",
    "   - Crie dois conjuntos:\n",
    "     - Um contendo os nomes dos alunos que têm uma média superior a 80.\n",
    "     - Outro contendo os nomes dos alunos que obtiveram nota superior a 90 em pelo menos uma disciplina.\n",
    "\n"
   ]
  },
  {
   "cell_type": "code",
   "execution_count": null,
   "metadata": {
    "id": "0QJJNHmpji77"
   },
   "outputs": [],
   "source": [
    "#### Exemplo de Saída Esperada:\n",
    "# Disciplinas disponíveis:\n",
    "['Matemática', 'História', 'Física']\n",
    "# Média de notas por aluno:\n",
    "{'Alice': 90.0, 'Bob': 81.67, 'Carlos': 70.0, 'Diana': 91.67}\n",
    "# Notas de cada aluno por disciplina:\n",
    "{'Alice': {'Matemática': 85, 'História': 95, 'Física': 90}, 'Bob': {'História': 78, 'Matemática': 82, 'Física': 85}, 'Carlos': {'Matemática': 70, 'História': 65, 'Física': 75}, 'Diana': {'Matemática': 88, 'História': 92, 'Física': 95}}\n",
    "# Alunos com média superior a 80:\n",
    "{'Alice', 'Bob', 'Diana'}\n",
    "# Alunos com nota superior a 90 em pelo menos uma disciplina:\n",
    "{'Alice', 'Diana'}"
   ]
  },
  {
   "cell_type": "code",
   "execution_count": 52,
   "metadata": {},
   "outputs": [
    {
     "name": "stdout",
     "output_type": "stream",
     "text": [
      "{'História', 'Matemática', 'Física'}\n",
      "{'Alice': 90.0, 'Bob': 81.67, 'Carlos': 70.0, 'Diana': 91.67}\n",
      "{'Alice': {'Matemática': 85, 'História': 95, 'Física': 90}, 'Bob': {'História': 78, 'Matemática': 82, 'Física': 85}, 'Carlos': {'Matemática': 70, 'História': 65, 'Física': 75}, 'Diana': {'Matemática': 88, 'História': 92, 'Física': 95}}\n",
      "{'Bob', 'Alice', 'Diana'}\n",
      "{'Alice', 'Diana'}\n"
     ]
    }
   ],
   "source": [
    "#### Dados fornecidos:\n",
    "alunos = [\n",
    "    ('Alice', 'Matemática', 85),\n",
    "    ('Bob', 'História', 78),\n",
    "    ('Alice', 'História', 95),\n",
    "    ('Bob', 'Matemática', 82),\n",
    "    ('Carlos', 'Matemática', 70),\n",
    "    ('Carlos', 'História', 65),\n",
    "    ('Alice', 'Física', 90),\n",
    "    ('Bob', 'Física', 85),\n",
    "    ('Carlos', 'Física', 75),\n",
    "    ('Diana', 'Matemática', 88),\n",
    "    ('Diana', 'História', 92),\n",
    "    ('Diana', 'Física', 95),\n",
    "]\n",
    "\n",
    "# Exercício 1:\n",
    "disciplinas = {disciplina[1] for disciplina in alunos}\n",
    "print(disciplinas)\n",
    "\n",
    "# Exercício 2\n",
    "dict_alunos = {}\n",
    "for aluno,disciplina,nota in alunos:\n",
    "    dict_alunos.setdefault(aluno, []).append(nota)\n",
    "\n",
    "medias = {aluno: round(sum(notas) / len(notas),2) for aluno, notas in dict_alunos.items()}\n",
    "\n",
    "print(medias)\n",
    "\n",
    "# Exercício 3\n",
    "dict_alunos = {}\n",
    "for aluno,disciplina,nota in alunos:\n",
    "    if aluno not in dict_alunos:\n",
    "        dict_alunos[aluno] = {}\n",
    "    dict_alunos[aluno][disciplina] = nota\n",
    "print(dict_alunos)\n",
    "\n",
    "# Exercício 4\n",
    "alunos_media_sup_80 = set()\n",
    "alunos_media_sup_80 = {aluno for aluno, media in medias.items() if media > 80}\n",
    "print(alunos_media_sup_80)\n",
    "\n",
    "alunos_nota_90 = set()\n",
    "alunos_nota_90 = {aluno for aluno, disciplinas in dict_alunos.items() if any(nota > 90 for nota in disciplinas.values())}\n",
    "print(alunos_nota_90)"
   ]
  }
 ],
 "metadata": {
  "colab": {
   "provenance": []
  },
  "kernelspec": {
   "display_name": "base",
   "language": "python",
   "name": "python3"
  },
  "language_info": {
   "codemirror_mode": {
    "name": "ipython",
    "version": 3
   },
   "file_extension": ".py",
   "mimetype": "text/x-python",
   "name": "python",
   "nbconvert_exporter": "python",
   "pygments_lexer": "ipython3",
   "version": "3.12.4"
  }
 },
 "nbformat": 4,
 "nbformat_minor": 0
}
