{
 "cells": [
  {
   "cell_type": "markdown",
   "metadata": {
    "id": "_UB4Al1_bo7S"
   },
   "source": [
    "Considere o artigo:\n",
    "```python\n",
    "Bloice, M.D., Holzinger, A. (2016). A Tutorial on Machine Learning and Data Science Tools with Python.\n",
    "```\n",
    "In: Holzinger, A. (eds) Machine Learning for Health Informatics.<br> Lecture Notes in Computer Science(), vol 9605. Springer, Cham. <br>https://doi.org/10.1007/978-3-319-50478-0_22\n",
    "\n"
   ]
  },
  {
   "cell_type": "markdown",
   "metadata": {
    "id": "QFMnFkBTdFWP"
   },
   "source": [
    "Utilizando as bibliotecas `PyMuPDF` e `Regex`, faça a extração do texto e apresente todas as **URLs** presentes no artigo."
   ]
  },
  {
   "cell_type": "markdown",
   "metadata": {
    "id": "imQqn0MR1yMy"
   },
   "source": [
    "Acesso ao Formulário para envio do código:\n",
    "* https://forms.gle/D54GFxjB8s6ZqkPo9"
   ]
  },
  {
   "cell_type": "code",
   "execution_count": null,
   "metadata": {},
   "outputs": [
    {
     "name": "stdout",
     "output_type": "stream",
     "text": [
      "['https://github.com/mdbloice/MLDSIt', 'http://topepo.github.io/caret/index.html.', 'https://www.continuum.io/downloadsand', 'https://www.continuum.io/downloads.Keeping', 'http://localhost:8888/).', 'http://mathesaurus.sourceforge.net/matlab-numpy.html.Tutorial', 'http://www.scipy-lectures.org/', 'http://pandas.pydata.org/pandas-docs/stable/missing', 'http://www.scipy-lectures.org/.', 'http://pandas.pydata.org/pandas-docs/stable/visualization.html.', 'http://scikit-learn.org/stable/documentation.html.', 'https://twitter.com/fchollet/status/765212287531495424.Tutorial', 'https://developer.nvidia.com/digits', 'http://torch.ch/docs/getting-started.html', 'https://www.tensorﬂow.org/get', 'http://www.cancer.gov)/Indiana', 'https://visualsonline.cancer.gov/details.cfm?imageid=10583.Much', 'http://augmentor.readthedocs.io.', 'http://augmentorjl.readthedocs.io.Although', 'http://cacm.acm.org/blogs/blog-cacm/176450-python-is-now-the-most-popular-introductory-teaching-language-at-top-u-s-universities9.']\n",
      "20\n"
     ]
    }
   ],
   "source": [
    "import pymupdf\n",
    "import re\n",
    "\n",
    "def converter_pdf_string(caminho_arquivo):\n",
    "    # abre o documento\n",
    "    documento = pymupdf.open(caminho_arquivo)\n",
    "    string = ''\n",
    "\n",
    "    for pagina in documento:\n",
    "        # carrega as páginas do documento\n",
    "        texto = pagina.get_text()\n",
    "        # agrupa o documento em uma string\n",
    "        string += texto\n",
    "    \n",
    "    # fecha o documento\n",
    "    documento.close()\n",
    "    # exclui as quebras de linha\n",
    "    string = re.sub(r'\\n','',string)\n",
    "\n",
    "    return string\n",
    "\n",
    "def extrair_urls(texto):\n",
    "    # retorna lista com as urls\n",
    "    urls = list(filter(lambda string: re.search(r'(https?|ftp):\\/\\/', string), texto.split()))\n",
    "    # limpa sujeira no início das urls\n",
    "    urls = [url[url.find('http'):] for url in lista_urls]\n",
    "    return urls\n",
    "\n",
    "texto = converter_pdf_string('artigoAtividade2.pdf')\n",
    "lista_urls = extrair_urls(texto)\n",
    "print(lista_urls)\n",
    "print(len(lista_urls))\n"
   ]
  }
 ],
 "metadata": {
  "colab": {
   "provenance": []
  },
  "kernelspec": {
   "display_name": "base",
   "language": "python",
   "name": "python3"
  },
  "language_info": {
   "codemirror_mode": {
    "name": "ipython",
    "version": 3
   },
   "file_extension": ".py",
   "mimetype": "text/x-python",
   "name": "python",
   "nbconvert_exporter": "python",
   "pygments_lexer": "ipython3",
   "version": "3.12.4"
  }
 },
 "nbformat": 4,
 "nbformat_minor": 0
}
